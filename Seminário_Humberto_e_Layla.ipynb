{
  "nbformat": 4,
  "nbformat_minor": 0,
  "metadata": {
    "colab": {
      "provenance": []
    },
    "kernelspec": {
      "name": "python3",
      "display_name": "Python 3"
    },
    "language_info": {
      "name": "python"
    }
  },
  "cells": [
    {
      "cell_type": "markdown",
      "source": [
        "# Seminário Predição dados - Humberto Chaves (218060062) e Layla Sampaio (119060009)"
      ],
      "metadata": {
        "id": "AvA-oT6KxgnL"
      }
    },
    {
      "cell_type": "markdown",
      "source": [
        "# Usando VAR (vetor autorregressivo) para prever dados sobre economia\n"
      ],
      "metadata": {
        "id": "QFnG_-kj_dIj"
      }
    },
    {
      "cell_type": "markdown",
      "source": [
        "## Preparandinho o terreno"
      ],
      "metadata": {
        "id": "Jiv1dvQM-Lox"
      }
    },
    {
      "cell_type": "code",
      "source": [
        "import pandas as pd\n",
        "import statsmodels.api as sm\n",
        "from statsmodels.tsa.api import VAR\n",
        "import numpy as np\n",
        "from statsmodels.tsa.stattools import adfuller\n",
        "import matplotlib.pyplot as plt"
      ],
      "metadata": {
        "id": "DIX6j3id-TX9",
        "colab": {
          "base_uri": "https://localhost:8080/"
        },
        "outputId": "6b0d9775-b5ed-44b1-cd50-26f6adf43d5b"
      },
      "execution_count": null,
      "outputs": [
        {
          "output_type": "stream",
          "name": "stderr",
          "text": [
            "/usr/local/lib/python3.7/dist-packages/statsmodels/tools/_testing.py:19: FutureWarning: pandas.util.testing is deprecated. Use the functions in the public API at pandas.testing instead.\n",
            "  import pandas.util.testing as tm\n"
          ]
        }
      ]
    },
    {
      "cell_type": "code",
      "source": [
        "data = sm.datasets.macrodata.load_pandas().data #cria o dataset puxando da API\n",
        "data.head(6) # esse dataset se refere a economia de um dado país, no intervalo de tempo de 1959 a 2009 dividido por bimestre"
      ],
      "metadata": {
        "colab": {
          "base_uri": "https://localhost:8080/",
          "height": 238
        },
        "id": "7gvdRhZf-XG1",
        "outputId": "55dcb9d4-f722-429a-af21-b0b2fd5d8128"
      },
      "execution_count": null,
      "outputs": [
        {
          "output_type": "execute_result",
          "data": {
            "text/html": [
              "\n",
              "  <div id=\"df-f0a1444f-bf0b-4ea3-a438-016710c7bdf3\">\n",
              "    <div class=\"colab-df-container\">\n",
              "      <div>\n",
              "<style scoped>\n",
              "    .dataframe tbody tr th:only-of-type {\n",
              "        vertical-align: middle;\n",
              "    }\n",
              "\n",
              "    .dataframe tbody tr th {\n",
              "        vertical-align: top;\n",
              "    }\n",
              "\n",
              "    .dataframe thead th {\n",
              "        text-align: right;\n",
              "    }\n",
              "</style>\n",
              "<table border=\"1\" class=\"dataframe\">\n",
              "  <thead>\n",
              "    <tr style=\"text-align: right;\">\n",
              "      <th></th>\n",
              "      <th>year</th>\n",
              "      <th>quarter</th>\n",
              "      <th>realgdp</th>\n",
              "      <th>realcons</th>\n",
              "      <th>realinv</th>\n",
              "      <th>realgovt</th>\n",
              "      <th>realdpi</th>\n",
              "      <th>cpi</th>\n",
              "      <th>m1</th>\n",
              "      <th>tbilrate</th>\n",
              "      <th>unemp</th>\n",
              "      <th>pop</th>\n",
              "      <th>infl</th>\n",
              "      <th>realint</th>\n",
              "    </tr>\n",
              "  </thead>\n",
              "  <tbody>\n",
              "    <tr>\n",
              "      <th>0</th>\n",
              "      <td>1959.0</td>\n",
              "      <td>1.0</td>\n",
              "      <td>2710.349</td>\n",
              "      <td>1707.4</td>\n",
              "      <td>286.898</td>\n",
              "      <td>470.045</td>\n",
              "      <td>1886.9</td>\n",
              "      <td>28.98</td>\n",
              "      <td>139.7</td>\n",
              "      <td>2.82</td>\n",
              "      <td>5.8</td>\n",
              "      <td>177.146</td>\n",
              "      <td>0.00</td>\n",
              "      <td>0.00</td>\n",
              "    </tr>\n",
              "    <tr>\n",
              "      <th>1</th>\n",
              "      <td>1959.0</td>\n",
              "      <td>2.0</td>\n",
              "      <td>2778.801</td>\n",
              "      <td>1733.7</td>\n",
              "      <td>310.859</td>\n",
              "      <td>481.301</td>\n",
              "      <td>1919.7</td>\n",
              "      <td>29.15</td>\n",
              "      <td>141.7</td>\n",
              "      <td>3.08</td>\n",
              "      <td>5.1</td>\n",
              "      <td>177.830</td>\n",
              "      <td>2.34</td>\n",
              "      <td>0.74</td>\n",
              "    </tr>\n",
              "    <tr>\n",
              "      <th>2</th>\n",
              "      <td>1959.0</td>\n",
              "      <td>3.0</td>\n",
              "      <td>2775.488</td>\n",
              "      <td>1751.8</td>\n",
              "      <td>289.226</td>\n",
              "      <td>491.260</td>\n",
              "      <td>1916.4</td>\n",
              "      <td>29.35</td>\n",
              "      <td>140.5</td>\n",
              "      <td>3.82</td>\n",
              "      <td>5.3</td>\n",
              "      <td>178.657</td>\n",
              "      <td>2.74</td>\n",
              "      <td>1.09</td>\n",
              "    </tr>\n",
              "    <tr>\n",
              "      <th>3</th>\n",
              "      <td>1959.0</td>\n",
              "      <td>4.0</td>\n",
              "      <td>2785.204</td>\n",
              "      <td>1753.7</td>\n",
              "      <td>299.356</td>\n",
              "      <td>484.052</td>\n",
              "      <td>1931.3</td>\n",
              "      <td>29.37</td>\n",
              "      <td>140.0</td>\n",
              "      <td>4.33</td>\n",
              "      <td>5.6</td>\n",
              "      <td>179.386</td>\n",
              "      <td>0.27</td>\n",
              "      <td>4.06</td>\n",
              "    </tr>\n",
              "    <tr>\n",
              "      <th>4</th>\n",
              "      <td>1960.0</td>\n",
              "      <td>1.0</td>\n",
              "      <td>2847.699</td>\n",
              "      <td>1770.5</td>\n",
              "      <td>331.722</td>\n",
              "      <td>462.199</td>\n",
              "      <td>1955.5</td>\n",
              "      <td>29.54</td>\n",
              "      <td>139.6</td>\n",
              "      <td>3.50</td>\n",
              "      <td>5.2</td>\n",
              "      <td>180.007</td>\n",
              "      <td>2.31</td>\n",
              "      <td>1.19</td>\n",
              "    </tr>\n",
              "    <tr>\n",
              "      <th>5</th>\n",
              "      <td>1960.0</td>\n",
              "      <td>2.0</td>\n",
              "      <td>2834.390</td>\n",
              "      <td>1792.9</td>\n",
              "      <td>298.152</td>\n",
              "      <td>460.400</td>\n",
              "      <td>1966.1</td>\n",
              "      <td>29.55</td>\n",
              "      <td>140.2</td>\n",
              "      <td>2.68</td>\n",
              "      <td>5.2</td>\n",
              "      <td>180.671</td>\n",
              "      <td>0.14</td>\n",
              "      <td>2.55</td>\n",
              "    </tr>\n",
              "  </tbody>\n",
              "</table>\n",
              "</div>\n",
              "      <button class=\"colab-df-convert\" onclick=\"convertToInteractive('df-f0a1444f-bf0b-4ea3-a438-016710c7bdf3')\"\n",
              "              title=\"Convert this dataframe to an interactive table.\"\n",
              "              style=\"display:none;\">\n",
              "        \n",
              "  <svg xmlns=\"http://www.w3.org/2000/svg\" height=\"24px\"viewBox=\"0 0 24 24\"\n",
              "       width=\"24px\">\n",
              "    <path d=\"M0 0h24v24H0V0z\" fill=\"none\"/>\n",
              "    <path d=\"M18.56 5.44l.94 2.06.94-2.06 2.06-.94-2.06-.94-.94-2.06-.94 2.06-2.06.94zm-11 1L8.5 8.5l.94-2.06 2.06-.94-2.06-.94L8.5 2.5l-.94 2.06-2.06.94zm10 10l.94 2.06.94-2.06 2.06-.94-2.06-.94-.94-2.06-.94 2.06-2.06.94z\"/><path d=\"M17.41 7.96l-1.37-1.37c-.4-.4-.92-.59-1.43-.59-.52 0-1.04.2-1.43.59L10.3 9.45l-7.72 7.72c-.78.78-.78 2.05 0 2.83L4 21.41c.39.39.9.59 1.41.59.51 0 1.02-.2 1.41-.59l7.78-7.78 2.81-2.81c.8-.78.8-2.07 0-2.86zM5.41 20L4 18.59l7.72-7.72 1.47 1.35L5.41 20z\"/>\n",
              "  </svg>\n",
              "      </button>\n",
              "      \n",
              "  <style>\n",
              "    .colab-df-container {\n",
              "      display:flex;\n",
              "      flex-wrap:wrap;\n",
              "      gap: 12px;\n",
              "    }\n",
              "\n",
              "    .colab-df-convert {\n",
              "      background-color: #E8F0FE;\n",
              "      border: none;\n",
              "      border-radius: 50%;\n",
              "      cursor: pointer;\n",
              "      display: none;\n",
              "      fill: #1967D2;\n",
              "      height: 32px;\n",
              "      padding: 0 0 0 0;\n",
              "      width: 32px;\n",
              "    }\n",
              "\n",
              "    .colab-df-convert:hover {\n",
              "      background-color: #E2EBFA;\n",
              "      box-shadow: 0px 1px 2px rgba(60, 64, 67, 0.3), 0px 1px 3px 1px rgba(60, 64, 67, 0.15);\n",
              "      fill: #174EA6;\n",
              "    }\n",
              "\n",
              "    [theme=dark] .colab-df-convert {\n",
              "      background-color: #3B4455;\n",
              "      fill: #D2E3FC;\n",
              "    }\n",
              "\n",
              "    [theme=dark] .colab-df-convert:hover {\n",
              "      background-color: #434B5C;\n",
              "      box-shadow: 0px 1px 3px 1px rgba(0, 0, 0, 0.15);\n",
              "      filter: drop-shadow(0px 1px 2px rgba(0, 0, 0, 0.3));\n",
              "      fill: #FFFFFF;\n",
              "    }\n",
              "  </style>\n",
              "\n",
              "      <script>\n",
              "        const buttonEl =\n",
              "          document.querySelector('#df-f0a1444f-bf0b-4ea3-a438-016710c7bdf3 button.colab-df-convert');\n",
              "        buttonEl.style.display =\n",
              "          google.colab.kernel.accessAllowed ? 'block' : 'none';\n",
              "\n",
              "        async function convertToInteractive(key) {\n",
              "          const element = document.querySelector('#df-f0a1444f-bf0b-4ea3-a438-016710c7bdf3');\n",
              "          const dataTable =\n",
              "            await google.colab.kernel.invokeFunction('convertToInteractive',\n",
              "                                                     [key], {});\n",
              "          if (!dataTable) return;\n",
              "\n",
              "          const docLinkHtml = 'Like what you see? Visit the ' +\n",
              "            '<a target=\"_blank\" href=https://colab.research.google.com/notebooks/data_table.ipynb>data table notebook</a>'\n",
              "            + ' to learn more about interactive tables.';\n",
              "          element.innerHTML = '';\n",
              "          dataTable['output_type'] = 'display_data';\n",
              "          await google.colab.output.renderOutput(dataTable, element);\n",
              "          const docLink = document.createElement('div');\n",
              "          docLink.innerHTML = docLinkHtml;\n",
              "          element.appendChild(docLink);\n",
              "        }\n",
              "      </script>\n",
              "    </div>\n",
              "  </div>\n",
              "  "
            ],
            "text/plain": [
              "     year  quarter   realgdp  realcons  ...  unemp      pop  infl  realint\n",
              "0  1959.0      1.0  2710.349    1707.4  ...    5.8  177.146  0.00     0.00\n",
              "1  1959.0      2.0  2778.801    1733.7  ...    5.1  177.830  2.34     0.74\n",
              "2  1959.0      3.0  2775.488    1751.8  ...    5.3  178.657  2.74     1.09\n",
              "3  1959.0      4.0  2785.204    1753.7  ...    5.6  179.386  0.27     4.06\n",
              "4  1960.0      1.0  2847.699    1770.5  ...    5.2  180.007  2.31     1.19\n",
              "5  1960.0      2.0  2834.390    1792.9  ...    5.2  180.671  0.14     2.55\n",
              "\n",
              "[6 rows x 14 columns]"
            ]
          },
          "metadata": {},
          "execution_count": 2
        }
      ]
    },
    {
      "cell_type": "markdown",
      "source": [
        "## Descrição do problema"
      ],
      "metadata": {
        "id": "3H-ozKq9Cwh7"
      }
    },
    {
      "cell_type": "markdown",
      "source": [
        "O modelo VAR é um processo ESTOCASTICO que representa um grupo de variáveis dependentes de TEMPO como uma FUNÇÂO LINEAR dos valores passados delas próprias e dos valores passados de todas as outras variáveis do grupo.\n",
        "\n",
        "\n",
        "Por exemplo, podemos considerar uma análise de série temporal bivariada que descreve uma relação entre temperatura de hora em hora e a velocidade do vento em função de valores passados ​​[2]:\n",
        "\n",
        "temp(t) = a1 + w11* temp(t-1) + w12* vento(t-1) + e1(t-1)\n",
        "\n",
        "vento(t) = a2 + w21* temp(t-1) + w22* vento(t-1) +e2(t-1)\n",
        "\n",
        "onde a1 e a2 são constantes; w11, w12, w21 e w22 são os coeficientes; e1 e e2 são os termos de erro"
      ],
      "metadata": {
        "id": "MW7sHXQiXJRU"
      }
    },
    {
      "cell_type": "markdown",
      "source": [
        "Em nosso problema, usamos o VAR para fazer a previsão do PROODUTO INTERNO BRUTO  e da RENDA PESSOAL DESCARTAVEL num período de tempo de 10 DATAS nesse caso BIMESTRES."
      ],
      "metadata": {
        "id": "_5FaEGNUZOY1"
      }
    },
    {
      "cell_type": "code",
      "source": [],
      "metadata": {
        "id": "DLaN6lUiBo4X"
      },
      "execution_count": null,
      "outputs": []
    },
    {
      "cell_type": "markdown",
      "source": [
        "## Apresentação da metodologia"
      ],
      "metadata": {
        "id": "OZFsdtT3Cy6P"
      }
    },
    {
      "cell_type": "markdown",
      "source": [
        "### Tratamento de dados"
      ],
      "metadata": {
        "id": "h5cCS3pH8iU9"
      }
    },
    {
      "cell_type": "markdown",
      "source": [
        "Nossos dados continham uma série de dados de séries temporais. A solução do Machine Hack escolheu apenas duas variáveis dependentes de tempo (realgdp e realdpi) para fazer o experimento e usou a coluna \"year\" como índice dos dados\n",
        "\n",
        "Antes de aplicar o modelo VAR, precisamos verificar se nossas variaveis eram estacionárias (apresentavam média e variânca constantes ao longo do tempo).\n",
        "\n",
        "Para isso, usamos o teste Augmented Dickey-Fuller (ADF) para encontrar a estacionariedade da série usando os critérios AIC. O teste ADF é um teste de raiz unitária em séries temporais. A estatística ADF, usada no teste, é um número negativo, e quanto mais negativo, mais indicativo o teste se torna de rejeitar a hipótese nula de que existe raiz unitária na série.\n",
        "\n",
        "Como ambas as séries não são estacionárias, realizamos a diferenciação e posteriormente verificamos a estacionaridade.\n",
        "\n",
        "Os dados passam a ser estacionários."
      ],
      "metadata": {
        "id": "CpBhSBPm-Hcx"
      }
    },
    {
      "cell_type": "code",
      "source": [
        "data1 = data[[\"realgdp\", 'realdpi']]\n",
        "data1.index = data[\"year\"]\n",
        "data1.plot(figsize = (8,5))"
      ],
      "metadata": {
        "colab": {
          "base_uri": "https://localhost:8080/",
          "height": 351
        },
        "id": "rvnSb6fsx96l",
        "outputId": "462adc91-7310-4cda-eb07-5264252a7bad"
      },
      "execution_count": null,
      "outputs": [
        {
          "output_type": "execute_result",
          "data": {
            "text/plain": [
              "<matplotlib.axes._subplots.AxesSubplot at 0x7f377dd5f490>"
            ]
          },
          "metadata": {},
          "execution_count": 3
        },
        {
          "output_type": "display_data",
          "data": {
            "image/png": "[encoded data removed]",
            "text/plain": [
              "<Figure size 576x360 with 1 Axes>"
            ]
          },
          "metadata": {
            "needs_background": "light"
          }
        }
      ]
    },
    {
      "cell_type": "code",
      "source": [
        "adfuller_test = adfuller(data1['realgdp'], autolag= \"AIC\")\n",
        "print(\"ADF test statistic: {}\".format(adfuller_test[0]))\n",
        "print(\"p-value: {}\".format(adfuller_test[1]))"
      ],
      "metadata": {
        "colab": {
          "base_uri": "https://localhost:8080/"
        },
        "id": "44zOVKWTyJwx",
        "outputId": "ffa43e50-731b-43a1-fcb9-58a74abcab2c"
      },
      "execution_count": null,
      "outputs": [
        {
          "output_type": "stream",
          "name": "stdout",
          "text": [
            "ADF test statistic: 1.7504627967647186\n",
            "p-value: 0.9982455372335032\n"
          ]
        }
      ]
    },
    {
      "cell_type": "code",
      "source": [
        "adfuller_test = adfuller(data1['realdpi'], autolag= \"AIC\")\n",
        "print(\"ADF test statistic: {}\".format(adfuller_test[0]))\n",
        "print(\"p-value: {}\".format(adfuller_test[1]))"
      ],
      "metadata": {
        "colab": {
          "base_uri": "https://localhost:8080/"
        },
        "id": "YhElJHTDyMb3",
        "outputId": "bb1d9409-d474-4246-82d0-1dd3fe65420f"
      },
      "execution_count": null,
      "outputs": [
        {
          "output_type": "stream",
          "name": "stdout",
          "text": [
            "ADF test statistic: 2.9860253519546855\n",
            "p-value: 1.0\n"
          ]
        }
      ]
    },
    {
      "cell_type": "code",
      "source": [
        "data_d = data1.diff().dropna()"
      ],
      "metadata": {
        "id": "ZN2bfPOsyTPw"
      },
      "execution_count": null,
      "outputs": []
    },
    {
      "cell_type": "code",
      "source": [
        "adfuller_test = adfuller(data_d['realgdp'], autolag= \"AIC\")\n",
        "print(\"ADF test statistic: {}\".format(adfuller_test[0]))\n",
        "print(\"p-value: {}\".format(adfuller_test[1]))"
      ],
      "metadata": {
        "colab": {
          "base_uri": "https://localhost:8080/"
        },
        "id": "ROm5uijnyV0g",
        "outputId": "8f839fef-2f00-469a-bae3-90b1782b6005"
      },
      "execution_count": null,
      "outputs": [
        {
          "output_type": "stream",
          "name": "stdout",
          "text": [
            "ADF test statistic: -6.305695561658105\n",
            "p-value: 3.327882187668224e-08\n"
          ]
        }
      ]
    },
    {
      "cell_type": "code",
      "source": [
        "adfuller_test = adfuller(data_d['realdpi'], autolag= \"AIC\")\n",
        "print(\"ADF test statistic: {}\".format(adfuller_test[0]))\n",
        "print(\"p-value: {}\".format(adfuller_test[1]))"
      ],
      "metadata": {
        "colab": {
          "base_uri": "https://localhost:8080/"
        },
        "id": "p1X6MuiCyXv0",
        "outputId": "52224633-b89d-42a4-fa76-73679d47af0b"
      },
      "execution_count": null,
      "outputs": [
        {
          "output_type": "stream",
          "name": "stdout",
          "text": [
            "ADF test statistic: -8.864893340673007\n",
            "p-value: 1.4493606159108096e-14\n"
          ]
        }
      ]
    },
    {
      "cell_type": "code",
      "source": [
        "data_d.plot(figsize=(8,5))"
      ],
      "metadata": {
        "colab": {
          "base_uri": "https://localhost:8080/",
          "height": 351
        },
        "id": "nphKcyPKybUj",
        "outputId": "1b3590a4-4fb0-4b38-dc48-e0170c765dc5"
      },
      "execution_count": null,
      "outputs": [
        {
          "output_type": "execute_result",
          "data": {
            "text/plain": [
              "<matplotlib.axes._subplots.AxesSubplot at 0x7f3773f57b10>"
            ]
          },
          "metadata": {},
          "execution_count": 9
        },
        {
          "output_type": "display_data",
          "data": {
            "image/png": "[encoded data removed]",
            "text/plain": [
              "<Figure size 576x360 with 1 Axes>"
            ]
          },
          "metadata": {
            "needs_background": "light"
          }
        }
      ]
    },
    {
      "cell_type": "markdown",
      "source": [
        "### Sobre o modelo"
      ],
      "metadata": {
        "id": "rua2hfCEnq-N"
      }
    },
    {
      "cell_type": "markdown",
      "source": [
        "No processo de modelagem do VAR, o site optou por empregar o Critério de Informação Akaike (AIC) como critério de seleção do modelo para realizar a identificação ótima do modelo. Em termos simples, selecionamos a ordem (p) do VAR com base na melhor pontuação do AIC. O AIC, em geral, penaliza os modelos por serem muito complexos, embora os modelos complexos possam ter um desempenho ligeiramente melhor em algum outro critério de seleção de modelos. Assim, esperamos um ponto de inflexão na busca da ordem (p), significando que, a pontuação do AIC deve diminuir à medida que a ordem (p) aumenta até uma certa ordem e então a pontuação começa a aumentar. Para isso, realizamos grid-search para investigar a ordem ótima (p).\n",
        "\n",
        "Realizamos a divisão de teste de treinamento dos dados e mantemos as últimas 10 datas como dados de teste. Treinamos o modelo VAR com os dados de treinamento, que foram os separados 10 ultimos bimestres do dataset.\n",
        "\n",
        "A partir do gráfico, a pontuação de AIC mais baixa é alcançada na ordem de 2 e, em seguida, as pontuações de AIC mostram uma tendência crescente à medida que a ordem p aumenta. Assim, selecionamos o 2 como a ordem ótima do modelo VAR. Consequentemente, ajustamos a ordem 2 ao modelo de previsão."
      ],
      "metadata": {
        "id": "xIrZ-4hXntVl"
      }
    },
    {
      "cell_type": "markdown",
      "source": [
        "Ao executar um teste de hipótese, você usa a estatística T com um valor p . O valor-p informa quais são as chances de que seus resultados possam ter acontecido por acaso.\n",
        "\n",
        "Como não conseguimos compreender muito bem os dados apresentados no sumário, criamos algumas hipoteses:\n",
        "\n",
        "1) Nos nossos testes, a t-stat pode ser considerada baixa, por isso, consideramos nossa previsão boa.\n",
        "\n",
        "2) a coluna \"prob\" pode estar relacionada a probabilidade de erro, e por termos numeros baixos aqui também, imaginamos que nossa previsão tenha se aproximado do real resultado."
      ],
      "metadata": {
        "id": "0GrchjTtsDBA"
      }
    },
    {
      "cell_type": "code",
      "source": [
        "train = data_d.iloc[:-10,:]\n",
        "test = data_d.iloc[-10:,:]"
      ],
      "metadata": {
        "id": "c9OmZTJzyy99"
      },
      "execution_count": null,
      "outputs": []
    },
    {
      "cell_type": "code",
      "source": [
        "forecasting_model = VAR(train)\n",
        "results_aic = []\n",
        "for p in range(1,10):\n",
        "  results = forecasting_model.fit(p)\n",
        "  results_aic.append(results.aic)"
      ],
      "metadata": {
        "colab": {
          "base_uri": "https://localhost:8080/"
        },
        "id": "JDvD7tdhy0R5",
        "outputId": "c7f59c94-f161-4e3a-aa45-f6b960c9994a"
      },
      "execution_count": null,
      "outputs": [
        {
          "output_type": "stream",
          "name": "stderr",
          "text": [
            "/usr/local/lib/python3.7/dist-packages/statsmodels/tsa/base/tsa_model.py:215: ValueWarning: An unsupported index was provided and will be ignored when e.g. forecasting.\n",
            "  ' ignored when e.g. forecasting.', ValueWarning)\n"
          ]
        }
      ]
    },
    {
      "cell_type": "code",
      "source": [
        "plt.plot(list(np.arange(1,10,1)), results_aic)\n",
        "plt.xlabel(\"Order\")\n",
        "plt.ylabel(\"AIC\")\n",
        "plt.show()"
      ],
      "metadata": {
        "colab": {
          "base_uri": "https://localhost:8080/",
          "height": 281
        },
        "id": "5cYN36tDy49G",
        "outputId": "97e95636-5fe1-4a90-b87f-2b9be368c1ac"
      },
      "execution_count": null,
      "outputs": [
        {
          "output_type": "display_data",
          "data": {
            "image/png": "[encoded data removed]",
            "text/plain": [
              "<Figure size 432x288 with 1 Axes>"
            ]
          },
          "metadata": {
            "needs_background": "light"
          }
        }
      ]
    },
    {
      "cell_type": "code",
      "execution_count": null,
      "metadata": {
        "id": "_vMEOH-0NUNj",
        "colab": {
          "base_uri": "https://localhost:8080/"
        },
        "outputId": "973caccb-b108-48eb-c7a6-5dda2738d091"
      },
      "outputs": [
        {
          "output_type": "execute_result",
          "data": {
            "text/plain": [
              "  Summary of Regression Results   \n",
              "==================================\n",
              "Model:                         VAR\n",
              "Method:                        OLS\n",
              "Date:           Wed, 26, Jan, 2022\n",
              "Time:                     19:25:54\n",
              "--------------------------------------------------------------------\n",
              "No. of Equations:         2.00000    BIC:                    15.5043\n",
              "Nobs:                     190.000    HQIC:                   15.4026\n",
              "Log likelihood:          -1985.87    FPE:                4.56270e+06\n",
              "AIC:                      15.3334    Det(Omega_mle):     4.33171e+06\n",
              "--------------------------------------------------------------------\n",
              "Results for equation realgdp\n",
              "=============================================================================\n",
              "                coefficient       std. error           t-stat            prob\n",
              "-----------------------------------------------------------------------------\n",
              "const             23.807343         6.111430            3.896           0.000\n",
              "L1.realgdp         0.176227         0.078131            2.256           0.024\n",
              "L1.realdpi         0.213713         0.085309            2.505           0.012\n",
              "L2.realgdp         0.211259         0.075926            2.782           0.005\n",
              "L2.realdpi         0.018103         0.087131            0.208           0.835\n",
              "=============================================================================\n",
              "\n",
              "Results for equation realdpi\n",
              "=============================================================================\n",
              "                coefficient       std. error           t-stat            prob\n",
              "-----------------------------------------------------------------------------\n",
              "const             29.557677         5.688065            5.196           0.000\n",
              "L1.realgdp         0.246371         0.072718            3.388           0.001\n",
              "L1.realdpi        -0.182692         0.079399           -2.301           0.021\n",
              "L2.realgdp         0.048001         0.070667            0.679           0.497\n",
              "L2.realdpi         0.091316         0.081095            1.126           0.260\n",
              "=============================================================================\n",
              "\n",
              "Correlation matrix of residuals\n",
              "            realgdp   realdpi\n",
              "realgdp    1.000000  0.386669\n",
              "realdpi    0.386669  1.000000\n",
              "\n"
            ]
          },
          "metadata": {},
          "execution_count": 34
        }
      ],
      "source": [
        "results = forecasting_model.fit(2)\n",
        "results.summary()"
      ]
    },
    {
      "cell_type": "markdown",
      "source": [
        "## Discussão dos resultados e conclusões finais\n",
        "\n"
      ],
      "metadata": {
        "id": "9yqi5oTeC23g"
      }
    },
    {
      "cell_type": "markdown",
      "source": [
        "\n",
        "Usamos 2 como a ordem ótima no ajuste do modelo VAR. Assim, tomamos as 2 etapas finais nos dados de treinamento para prever a próxima etapa imediata (ou seja, a primeira data dos dados de teste).\n",
        "\n",
        "Depois de ajustar o modelo, prevemos para os dados de teste em que as últimas 2 datas de dados de treinamento foram definidas como valores defasados ​​e as steps definidas como 10 datas conforme queremos prever para os próximos 10 dias."
      ],
      "metadata": {
        "id": "n2ucP9IZQjX0"
      }
    },
    {
      "cell_type": "markdown",
      "source": [
        "O realdpi original e o realdpi previsto mostram um padrão semelhante fora das datas previstas. Para realgdp: a primeira metade dos valores previstos apresenta um padrão semelhante aos valores originais, por outro lado, a última metade dos valores previstos não segue um padrão semelhante.\n"
      ],
      "metadata": {
        "id": "K9o4zBnYpgY1"
      }
    },
    {
      "cell_type": "code",
      "source": [
        "lagged_values = train.values[-2:]#Usamos 2 como a ordem ótima no ajuste do modelo VAR.\n",
        "                                # Assim, tomamos as 2 ultimas datas dos dados de treinamento para prever a próxima etapa imediata\n",
        "forecast = pd.DataFrame(results.forecast(y= lagged_values, steps=10),# prevemos para os dados de teste em que as últimas 2 datas de DADOS DE TREINAMENTO\n",
        "                        index = test.index, columns= ['realgdp_1d', 'realdpi_1d'])#foram definidas como valores defasados ​​e as steps definidas como 10 datas conforme queremos prever para os próximos 10 dias.\n",
        "forecast"
      ],
      "metadata": {
        "colab": {
          "base_uri": "https://localhost:8080/",
          "height": 394
        },
        "id": "Z04QtPzA9Bhk",
        "outputId": "198c23ca-0de4-44fe-8836-77f991e6aa8c"
      },
      "execution_count": null,
      "outputs": [
        {
          "output_type": "execute_result",
          "data": {
            "text/html": [
              "\n",
              "  <div id=\"df-0fff4149-3492-4741-b142-64ae40415eb1\">\n",
              "    <div class=\"colab-df-container\">\n",
              "      <div>\n",
              "<style scoped>\n",
              "    .dataframe tbody tr th:only-of-type {\n",
              "        vertical-align: middle;\n",
              "    }\n",
              "\n",
              "    .dataframe tbody tr th {\n",
              "        vertical-align: top;\n",
              "    }\n",
              "\n",
              "    .dataframe thead th {\n",
              "        text-align: right;\n",
              "    }\n",
              "</style>\n",
              "<table border=\"1\" class=\"dataframe\">\n",
              "  <thead>\n",
              "    <tr style=\"text-align: right;\">\n",
              "      <th></th>\n",
              "      <th>realgdp_1d</th>\n",
              "      <th>realdpi_1d</th>\n",
              "    </tr>\n",
              "    <tr>\n",
              "      <th>year</th>\n",
              "      <th></th>\n",
              "      <th></th>\n",
              "    </tr>\n",
              "  </thead>\n",
              "  <tbody>\n",
              "    <tr>\n",
              "      <th>2007.0</th>\n",
              "      <td>61.872982</td>\n",
              "      <td>47.739232</td>\n",
              "    </tr>\n",
              "    <tr>\n",
              "      <th>2007.0</th>\n",
              "      <td>53.948996</td>\n",
              "      <td>41.742951</td>\n",
              "    </tr>\n",
              "    <tr>\n",
              "      <th>2007.0</th>\n",
              "      <td>56.171082</td>\n",
              "      <td>42.552316</td>\n",
              "    </tr>\n",
              "    <tr>\n",
              "      <th>2008.0</th>\n",
              "      <td>54.953081</td>\n",
              "      <td>42.023999</td>\n",
              "    </tr>\n",
              "    <tr>\n",
              "      <th>2008.0</th>\n",
              "      <td>55.109616</td>\n",
              "      <td>42.001007</td>\n",
              "    </tr>\n",
              "    <tr>\n",
              "      <th>2008.0</th>\n",
              "      <td>54.865410</td>\n",
              "      <td>41.937065</td>\n",
              "    </tr>\n",
              "    <tr>\n",
              "      <th>2008.0</th>\n",
              "      <td>54.841362</td>\n",
              "      <td>41.893996</td>\n",
              "    </tr>\n",
              "    <tr>\n",
              "      <th>2009.0</th>\n",
              "      <td>54.775171</td>\n",
              "      <td>41.878378</td>\n",
              "    </tr>\n",
              "    <tr>\n",
              "      <th>2009.0</th>\n",
              "      <td>54.754309</td>\n",
              "      <td>41.859837</td>\n",
              "    </tr>\n",
              "    <tr>\n",
              "      <th>2009.0</th>\n",
              "      <td>54.732404</td>\n",
              "      <td>41.853481</td>\n",
              "    </tr>\n",
              "  </tbody>\n",
              "</table>\n",
              "</div>\n",
              "      <button class=\"colab-df-convert\" onclick=\"convertToInteractive('df-0fff4149-3492-4741-b142-64ae40415eb1')\"\n",
              "              title=\"Convert this dataframe to an interactive table.\"\n",
              "              style=\"display:none;\">\n",
              "        \n",
              "  <svg xmlns=\"http://www.w3.org/2000/svg\" height=\"24px\"viewBox=\"0 0 24 24\"\n",
              "       width=\"24px\">\n",
              "    <path d=\"M0 0h24v24H0V0z\" fill=\"none\"/>\n",
              "    <path d=\"M18.56 5.44l.94 2.06.94-2.06 2.06-.94-2.06-.94-.94-2.06-.94 2.06-2.06.94zm-11 1L8.5 8.5l.94-2.06 2.06-.94-2.06-.94L8.5 2.5l-.94 2.06-2.06.94zm10 10l.94 2.06.94-2.06 2.06-.94-2.06-.94-.94-2.06-.94 2.06-2.06.94z\"/><path d=\"M17.41 7.96l-1.37-1.37c-.4-.4-.92-.59-1.43-.59-.52 0-1.04.2-1.43.59L10.3 9.45l-7.72 7.72c-.78.78-.78 2.05 0 2.83L4 21.41c.39.39.9.59 1.41.59.51 0 1.02-.2 1.41-.59l7.78-7.78 2.81-2.81c.8-.78.8-2.07 0-2.86zM5.41 20L4 18.59l7.72-7.72 1.47 1.35L5.41 20z\"/>\n",
              "  </svg>\n",
              "      </button>\n",
              "      \n",
              "  <style>\n",
              "    .colab-df-container {\n",
              "      display:flex;\n",
              "      flex-wrap:wrap;\n",
              "      gap: 12px;\n",
              "    }\n",
              "\n",
              "    .colab-df-convert {\n",
              "      background-color: #E8F0FE;\n",
              "      border: none;\n",
              "      border-radius: 50%;\n",
              "      cursor: pointer;\n",
              "      display: none;\n",
              "      fill: #1967D2;\n",
              "      height: 32px;\n",
              "      padding: 0 0 0 0;\n",
              "      width: 32px;\n",
              "    }\n",
              "\n",
              "    .colab-df-convert:hover {\n",
              "      background-color: #E2EBFA;\n",
              "      box-shadow: 0px 1px 2px rgba(60, 64, 67, 0.3), 0px 1px 3px 1px rgba(60, 64, 67, 0.15);\n",
              "      fill: #174EA6;\n",
              "    }\n",
              "\n",
              "    [theme=dark] .colab-df-convert {\n",
              "      background-color: #3B4455;\n",
              "      fill: #D2E3FC;\n",
              "    }\n",
              "\n",
              "    [theme=dark] .colab-df-convert:hover {\n",
              "      background-color: #434B5C;\n",
              "      box-shadow: 0px 1px 3px 1px rgba(0, 0, 0, 0.15);\n",
              "      filter: drop-shadow(0px 1px 2px rgba(0, 0, 0, 0.3));\n",
              "      fill: #FFFFFF;\n",
              "    }\n",
              "  </style>\n",
              "\n",
              "      <script>\n",
              "        const buttonEl =\n",
              "          document.querySelector('#df-0fff4149-3492-4741-b142-64ae40415eb1 button.colab-df-convert');\n",
              "        buttonEl.style.display =\n",
              "          google.colab.kernel.accessAllowed ? 'block' : 'none';\n",
              "\n",
              "        async function convertToInteractive(key) {\n",
              "          const element = document.querySelector('#df-0fff4149-3492-4741-b142-64ae40415eb1');\n",
              "          const dataTable =\n",
              "            await google.colab.kernel.invokeFunction('convertToInteractive',\n",
              "                                                     [key], {});\n",
              "          if (!dataTable) return;\n",
              "\n",
              "          const docLinkHtml = 'Like what you see? Visit the ' +\n",
              "            '<a target=\"_blank\" href=https://colab.research.google.com/notebooks/data_table.ipynb>data table notebook</a>'\n",
              "            + ' to learn more about interactive tables.';\n",
              "          element.innerHTML = '';\n",
              "          dataTable['output_type'] = 'display_data';\n",
              "          await google.colab.output.renderOutput(dataTable, element);\n",
              "          const docLink = document.createElement('div');\n",
              "          docLink.innerHTML = docLinkHtml;\n",
              "          element.appendChild(docLink);\n",
              "        }\n",
              "      </script>\n",
              "    </div>\n",
              "  </div>\n",
              "  "
            ],
            "text/plain": [
              "        realgdp_1d  realdpi_1d\n",
              "year                          \n",
              "2007.0   61.872982   47.739232\n",
              "2007.0   53.948996   41.742951\n",
              "2007.0   56.171082   42.552316\n",
              "2008.0   54.953081   42.023999\n",
              "2008.0   55.109616   42.001007\n",
              "2008.0   54.865410   41.937065\n",
              "2008.0   54.841362   41.893996\n",
              "2009.0   54.775171   41.878378\n",
              "2009.0   54.754309   41.859837\n",
              "2009.0   54.732404   41.853481"
            ]
          },
          "metadata": {},
          "execution_count": 14
        }
      ]
    },
    {
      "cell_type": "code",
      "source": [
        "forecast.plot(figsize=(8,5))\n"
      ],
      "metadata": {
        "colab": {
          "base_uri": "https://localhost:8080/",
          "height": 351
        },
        "id": "VX2i8cxTr5Gv",
        "outputId": "facef97f-4037-4260-af1f-522ed84686b9"
      },
      "execution_count": null,
      "outputs": [
        {
          "output_type": "execute_result",
          "data": {
            "text/plain": [
              "<matplotlib.axes._subplots.AxesSubplot at 0x7f3771ec5d50>"
            ]
          },
          "metadata": {},
          "execution_count": 15
        },
        {
          "output_type": "display_data",
          "data": {
            "image/png": "[encoded data removed]",
            "text/plain": [
              "<Figure size 576x360 with 1 Axes>"
            ]
          },
          "metadata": {
            "needs_background": "light"
          }
        }
      ]
    },
    {
      "cell_type": "code",
      "source": [
        "forecast[\"realgdp_forecasted\"] = data1[\"realgdp\"].iloc[-10-1] + forecast['realgdp_1d'].cumsum() #Derivação da previsão\n",
        "forecast[\"realdpi_forecasted\"] = data1[\"realdpi\"].iloc[-10-1] + forecast['realdpi_1d'].cumsum() #que soma acumulativa dos valores dos 10 dias anteriores anteriores"
      ],
      "metadata": {
        "id": "zmWJlSu89D3N"
      },
      "execution_count": null,
      "outputs": []
    },
    {
      "cell_type": "code",
      "source": [
        "forecast"
      ],
      "metadata": {
        "colab": {
          "base_uri": "https://localhost:8080/",
          "height": 394
        },
        "id": "deaEcQlQR3H-",
        "outputId": "cf10de14-ee80-4137-f958-7975e3413442"
      },
      "execution_count": null,
      "outputs": [
        {
          "output_type": "execute_result",
          "data": {
            "text/html": [
              "\n",
              "  <div id=\"df-f837c268-f3b0-4ef2-94be-e2c8e01e075e\">\n",
              "    <div class=\"colab-df-container\">\n",
              "      <div>\n",
              "<style scoped>\n",
              "    .dataframe tbody tr th:only-of-type {\n",
              "        vertical-align: middle;\n",
              "    }\n",
              "\n",
              "    .dataframe tbody tr th {\n",
              "        vertical-align: top;\n",
              "    }\n",
              "\n",
              "    .dataframe thead th {\n",
              "        text-align: right;\n",
              "    }\n",
              "</style>\n",
              "<table border=\"1\" class=\"dataframe\">\n",
              "  <thead>\n",
              "    <tr style=\"text-align: right;\">\n",
              "      <th></th>\n",
              "      <th>realgdp_1d</th>\n",
              "      <th>realdpi_1d</th>\n",
              "      <th>realgdp_forecasted</th>\n",
              "      <th>realdpi_forecasted</th>\n",
              "    </tr>\n",
              "    <tr>\n",
              "      <th>year</th>\n",
              "      <th></th>\n",
              "      <th></th>\n",
              "      <th></th>\n",
              "      <th></th>\n",
              "    </tr>\n",
              "  </thead>\n",
              "  <tbody>\n",
              "    <tr>\n",
              "      <th>2007.0</th>\n",
              "      <td>61.872982</td>\n",
              "      <td>47.739232</td>\n",
              "      <td>13161.773982</td>\n",
              "      <td>9877.939232</td>\n",
              "    </tr>\n",
              "    <tr>\n",
              "      <th>2007.0</th>\n",
              "      <td>53.948996</td>\n",
              "      <td>41.742951</td>\n",
              "      <td>13215.722978</td>\n",
              "      <td>9919.682183</td>\n",
              "    </tr>\n",
              "    <tr>\n",
              "      <th>2007.0</th>\n",
              "      <td>56.171082</td>\n",
              "      <td>42.552316</td>\n",
              "      <td>13271.894060</td>\n",
              "      <td>9962.234500</td>\n",
              "    </tr>\n",
              "    <tr>\n",
              "      <th>2008.0</th>\n",
              "      <td>54.953081</td>\n",
              "      <td>42.023999</td>\n",
              "      <td>13326.847141</td>\n",
              "      <td>10004.258499</td>\n",
              "    </tr>\n",
              "    <tr>\n",
              "      <th>2008.0</th>\n",
              "      <td>55.109616</td>\n",
              "      <td>42.001007</td>\n",
              "      <td>13381.956757</td>\n",
              "      <td>10046.259506</td>\n",
              "    </tr>\n",
              "    <tr>\n",
              "      <th>2008.0</th>\n",
              "      <td>54.865410</td>\n",
              "      <td>41.937065</td>\n",
              "      <td>13436.822166</td>\n",
              "      <td>10088.196571</td>\n",
              "    </tr>\n",
              "    <tr>\n",
              "      <th>2008.0</th>\n",
              "      <td>54.841362</td>\n",
              "      <td>41.893996</td>\n",
              "      <td>13491.663528</td>\n",
              "      <td>10130.090566</td>\n",
              "    </tr>\n",
              "    <tr>\n",
              "      <th>2009.0</th>\n",
              "      <td>54.775171</td>\n",
              "      <td>41.878378</td>\n",
              "      <td>13546.438699</td>\n",
              "      <td>10171.968945</td>\n",
              "    </tr>\n",
              "    <tr>\n",
              "      <th>2009.0</th>\n",
              "      <td>54.754309</td>\n",
              "      <td>41.859837</td>\n",
              "      <td>13601.193008</td>\n",
              "      <td>10213.828781</td>\n",
              "    </tr>\n",
              "    <tr>\n",
              "      <th>2009.0</th>\n",
              "      <td>54.732404</td>\n",
              "      <td>41.853481</td>\n",
              "      <td>13655.925412</td>\n",
              "      <td>10255.682262</td>\n",
              "    </tr>\n",
              "  </tbody>\n",
              "</table>\n",
              "</div>\n",
              "      <button class=\"colab-df-convert\" onclick=\"convertToInteractive('df-f837c268-f3b0-4ef2-94be-e2c8e01e075e')\"\n",
              "              title=\"Convert this dataframe to an interactive table.\"\n",
              "              style=\"display:none;\">\n",
              "        \n",
              "  <svg xmlns=\"http://www.w3.org/2000/svg\" height=\"24px\"viewBox=\"0 0 24 24\"\n",
              "       width=\"24px\">\n",
              "    <path d=\"M0 0h24v24H0V0z\" fill=\"none\"/>\n",
              "    <path d=\"M18.56 5.44l.94 2.06.94-2.06 2.06-.94-2.06-.94-.94-2.06-.94 2.06-2.06.94zm-11 1L8.5 8.5l.94-2.06 2.06-.94-2.06-.94L8.5 2.5l-.94 2.06-2.06.94zm10 10l.94 2.06.94-2.06 2.06-.94-2.06-.94-.94-2.06-.94 2.06-2.06.94z\"/><path d=\"M17.41 7.96l-1.37-1.37c-.4-.4-.92-.59-1.43-.59-.52 0-1.04.2-1.43.59L10.3 9.45l-7.72 7.72c-.78.78-.78 2.05 0 2.83L4 21.41c.39.39.9.59 1.41.59.51 0 1.02-.2 1.41-.59l7.78-7.78 2.81-2.81c.8-.78.8-2.07 0-2.86zM5.41 20L4 18.59l7.72-7.72 1.47 1.35L5.41 20z\"/>\n",
              "  </svg>\n",
              "      </button>\n",
              "      \n",
              "  <style>\n",
              "    .colab-df-container {\n",
              "      display:flex;\n",
              "      flex-wrap:wrap;\n",
              "      gap: 12px;\n",
              "    }\n",
              "\n",
              "    .colab-df-convert {\n",
              "      background-color: #E8F0FE;\n",
              "      border: none;\n",
              "      border-radius: 50%;\n",
              "      cursor: pointer;\n",
              "      display: none;\n",
              "      fill: #1967D2;\n",
              "      height: 32px;\n",
              "      padding: 0 0 0 0;\n",
              "      width: 32px;\n",
              "    }\n",
              "\n",
              "    .colab-df-convert:hover {\n",
              "      background-color: #E2EBFA;\n",
              "      box-shadow: 0px 1px 2px rgba(60, 64, 67, 0.3), 0px 1px 3px 1px rgba(60, 64, 67, 0.15);\n",
              "      fill: #174EA6;\n",
              "    }\n",
              "\n",
              "    [theme=dark] .colab-df-convert {\n",
              "      background-color: #3B4455;\n",
              "      fill: #D2E3FC;\n",
              "    }\n",
              "\n",
              "    [theme=dark] .colab-df-convert:hover {\n",
              "      background-color: #434B5C;\n",
              "      box-shadow: 0px 1px 3px 1px rgba(0, 0, 0, 0.15);\n",
              "      filter: drop-shadow(0px 1px 2px rgba(0, 0, 0, 0.3));\n",
              "      fill: #FFFFFF;\n",
              "    }\n",
              "  </style>\n",
              "\n",
              "      <script>\n",
              "        const buttonEl =\n",
              "          document.querySelector('#df-f837c268-f3b0-4ef2-94be-e2c8e01e075e button.colab-df-convert');\n",
              "        buttonEl.style.display =\n",
              "          google.colab.kernel.accessAllowed ? 'block' : 'none';\n",
              "\n",
              "        async function convertToInteractive(key) {\n",
              "          const element = document.querySelector('#df-f837c268-f3b0-4ef2-94be-e2c8e01e075e');\n",
              "          const dataTable =\n",
              "            await google.colab.kernel.invokeFunction('convertToInteractive',\n",
              "                                                     [key], {});\n",
              "          if (!dataTable) return;\n",
              "\n",
              "          const docLinkHtml = 'Like what you see? Visit the ' +\n",
              "            '<a target=\"_blank\" href=https://colab.research.google.com/notebooks/data_table.ipynb>data table notebook</a>'\n",
              "            + ' to learn more about interactive tables.';\n",
              "          element.innerHTML = '';\n",
              "          dataTable['output_type'] = 'display_data';\n",
              "          await google.colab.output.renderOutput(dataTable, element);\n",
              "          const docLink = document.createElement('div');\n",
              "          docLink.innerHTML = docLinkHtml;\n",
              "          element.appendChild(docLink);\n",
              "        }\n",
              "      </script>\n",
              "    </div>\n",
              "  </div>\n",
              "  "
            ],
            "text/plain": [
              "        realgdp_1d  realdpi_1d  realgdp_forecasted  realdpi_forecasted\n",
              "year                                                                  \n",
              "2007.0   61.872982   47.739232        13161.773982         9877.939232\n",
              "2007.0   53.948996   41.742951        13215.722978         9919.682183\n",
              "2007.0   56.171082   42.552316        13271.894060         9962.234500\n",
              "2008.0   54.953081   42.023999        13326.847141        10004.258499\n",
              "2008.0   55.109616   42.001007        13381.956757        10046.259506\n",
              "2008.0   54.865410   41.937065        13436.822166        10088.196571\n",
              "2008.0   54.841362   41.893996        13491.663528        10130.090566\n",
              "2009.0   54.775171   41.878378        13546.438699        10171.968945\n",
              "2009.0   54.754309   41.859837        13601.193008        10213.828781\n",
              "2009.0   54.732404   41.853481        13655.925412        10255.682262"
            ]
          },
          "metadata": {},
          "execution_count": 17
        }
      ]
    },
    {
      "cell_type": "code",
      "source": [
        "forecast.plot(figsize=(8,5))"
      ],
      "metadata": {
        "colab": {
          "base_uri": "https://localhost:8080/",
          "height": 351
        },
        "id": "DJTW0hcqrhST",
        "outputId": "d2609617-d8b8-445f-8757-f87d28e3610b"
      },
      "execution_count": null,
      "outputs": [
        {
          "output_type": "execute_result",
          "data": {
            "text/plain": [
              "<matplotlib.axes._subplots.AxesSubplot at 0x7f3771dea150>"
            ]
          },
          "metadata": {},
          "execution_count": 18
        },
        {
          "output_type": "display_data",
          "data": {
            "image/png": "[encoded data removed]",
            "text/plain": [
              "<Figure size 576x360 with 1 Axes>"
            ]
          },
          "metadata": {
            "needs_background": "light"
          }
        }
      ]
    },
    {
      "cell_type": "code",
      "source": [
        "data1_10 = data1.iloc[-10:,:]\n",
        "forecasted = forecast[[\"realgdp_forecasted\", \"realdpi_forecasted\"]]\n",
        "prev = pd.concat([data1_10, forecasted])\n",
        "prev.plot(figsize=(8,5)) #PROJEÇÃO CORRETA(modelo da previsao) COM PROPORÇÃO ERRADA"
      ],
      "metadata": {
        "colab": {
          "base_uri": "https://localhost:8080/",
          "height": 351
        },
        "id": "FcdZY4Ro4mc4",
        "outputId": "980dced5-9777-4988-c842-1efd16886d4a"
      },
      "execution_count": null,
      "outputs": [
        {
          "output_type": "execute_result",
          "data": {
            "text/plain": [
              "<matplotlib.axes._subplots.AxesSubplot at 0x7f37719bd410>"
            ]
          },
          "metadata": {},
          "execution_count": 21
        },
        {
          "output_type": "display_data",
          "data": {
            "image/png": "[encoded data removed]",
            "text/plain": [
              "<Figure size 576x360 with 1 Axes>"
            ]
          },
          "metadata": {
            "needs_background": "light"
          }
        }
      ]
    }
  ]
}